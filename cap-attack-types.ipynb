{
 "cells": [
  {
   "cell_type": "markdown",
   "id": "d4ee9e4b",
   "metadata": {},
   "source": [
    "***\n",
    "< [Home](https://github.com/SeanOhAileasa) | [README](https://github.com/SeanOhAileasa/cap-attack-types/blob/main/README.md) >\n",
    "\n",
    "## CompTIA Cybersecurity Analyst (CySA+) - Course Material 2022\n",
    "###### Topic: ``Attack Types``\n",
    "***"
   ]
  },
  {
   "cell_type": "markdown",
   "id": "b82b07fb",
   "metadata": {},
   "source": [
    "Course material for the ``CompTIA Cybersecurity Analyst (CySA+)`` module of the ``ICT Associate Apprenticeship (Cybersecurity)`` programme."
   ]
  },
  {
   "cell_type": "markdown",
   "id": "e7228f57",
   "metadata": {},
   "source": [
    "<a id=\"top\"></a>\n",
    "***\n",
    "## Table of Contents\n",
    "***"
   ]
  },
  {
   "cell_type": "markdown",
   "id": "c2bb5e7b",
   "metadata": {},
   "source": [
    "### [Attack Types](#AttackTypes) <br/><br/>\n",
    "<hr width=50%;>"
   ]
  },
  {
   "cell_type": "markdown",
   "id": "4a7e4810",
   "metadata": {},
   "source": [
    "### [Reconnaissance](#Reconnaissance) <br/><br/>\n",
    "<hr width=50%;>"
   ]
  },
  {
   "cell_type": "markdown",
   "id": "10f952b5",
   "metadata": {},
   "source": [
    "### [E-mail Harvesting](#EmailHarvesting) <br/><br/>\n",
    "<hr width=50%;>"
   ]
  },
  {
   "cell_type": "markdown",
   "id": "63d1dca7",
   "metadata": {},
   "source": [
    "### [Wi-Fi Vulnerabilities](#WiFiVulnerabilities) <br/><br/>\n",
    "<hr width=50%;>"
   ]
  },
  {
   "cell_type": "markdown",
   "id": "8d43b796",
   "metadata": {},
   "source": [
    "### [Wi-Fi Attacks](#WiFiAttacks) <br/><br/>\n",
    "<hr width=50%;>"
   ]
  },
  {
   "cell_type": "markdown",
   "id": "26f8ede1",
   "metadata": {},
   "source": [
    "### [Wi-Fi Tools](#WiFiTools) <br/><br/>\n",
    "<hr width=50%;>"
   ]
  },
  {
   "cell_type": "markdown",
   "id": "f2044593",
   "metadata": {},
   "source": [
    "### [Wi-Fi Hardening](#WiFiHardening) <br/><br/>\n",
    "<hr width=50%;>"
   ]
  },
  {
   "cell_type": "markdown",
   "id": "95466573",
   "metadata": {},
   "source": [
    "### [Injection Attacks](#InjectionAttacks) <br/><br/>\n",
    "<hr width=50%;>"
   ]
  },
  {
   "cell_type": "markdown",
   "id": "67ee9380",
   "metadata": {},
   "source": [
    "### [Overflow Attacks](#OverflowAttacks) <br/><br/>\n",
    "<hr width=50%;>"
   ]
  },
  {
   "cell_type": "markdown",
   "id": "29d6579c",
   "metadata": {},
   "source": [
    "### [Cross-site Scripting Attacks](#CrosssiteScriptingAttacks) <br/><br/>\n",
    "<hr width=50%;>"
   ]
  },
  {
   "cell_type": "markdown",
   "id": "d94c84e0",
   "metadata": {},
   "source": [
    "### [Web Browser Compromise](#WebBrowserCompromise) <br/><br/>\n",
    "<hr width=50%;>"
   ]
  },
  {
   "cell_type": "markdown",
   "id": "658a3a1d",
   "metadata": {},
   "source": [
    "### [XML Attacks](#XMLAttacks) <br/><br/>\n",
    "<hr width=50%;>"
   ]
  },
  {
   "cell_type": "markdown",
   "id": "3019351f",
   "metadata": {},
   "source": [
    "### [OWASP Top 10](#OWASPTop10) <br/><br/>\n",
    "<hr width=50%;>"
   ]
  },
  {
   "cell_type": "markdown",
   "id": "26341c5b",
   "metadata": {},
   "source": [
    "### [Testing Web Application Security](#TestingWebApplicationSecurity) <br/><br/>\n",
    "<hr width=50%;>"
   ]
  },
  {
   "cell_type": "markdown",
   "id": "9f385c79",
   "metadata": {},
   "source": [
    "### [DoS Attacks](#DoSAttacks) <br/><br/>\n",
    "<hr width=50%;>"
   ]
  },
  {
   "cell_type": "markdown",
   "id": "1d87257d",
   "metadata": {},
   "source": [
    "### [ARP Poisoning](#ARPPoisoning) <br/><br/>\n",
    "<hr width=50%;>"
   ]
  },
  {
   "cell_type": "markdown",
   "id": "d1c164b0",
   "metadata": {},
   "source": [
    "### [Executing ARP Poisoning](#ExecutingARPPoisoning) <br/><br/>\n",
    "<hr width=50%;>"
   ]
  },
  {
   "cell_type": "markdown",
   "id": "a95eb315",
   "metadata": {},
   "source": [
    "### [Password Attacks](#PasswordAttacks) <br/><br/>\n",
    "<hr width=50%;>"
   ]
  },
  {
   "cell_type": "markdown",
   "id": "ef75b2d5",
   "metadata": {},
   "source": [
    "### [Hydra Password Attack](#HydraPasswordAttack) <br/><br/>\n",
    "<hr width=50%;>"
   ]
  },
  {
   "cell_type": "markdown",
   "id": "df54e149",
   "metadata": {},
   "source": [
    "### [John the Ripper](#JohntheRipper) <br/><br/>\n",
    "<hr width=50%;>"
   ]
  },
  {
   "cell_type": "markdown",
   "id": "874d4892",
   "metadata": {},
   "source": [
    "### [Course Summary](#CourseSummary) <br/><br/>\n",
    "<hr width=50%;>"
   ]
  },
  {
   "cell_type": "markdown",
   "id": "bf2b95e2",
   "metadata": {},
   "source": [
    "***\n",
    "## END"
   ]
  },
  {
   "cell_type": "markdown",
   "id": "34aa6eb5",
   "metadata": {},
   "source": [
    "< [Table of Contents](#top) | [References](#references) >\n",
    "<a id=\"AttackTypes\"></a>\n",
    "***\n",
    "### Attack Types\n",
    "***"
   ]
  },
  {
   "cell_type": "markdown",
   "id": "58aff0ac",
   "metadata": {},
   "source": [
    "Helping protect your company's valuable assets against malicious attacks by outsiders requires a seasoned understanding of modern-day cyber threats. This 21-video course prepares learners to thwart reconnaissance and surveillance attacks by hackers and ward off Wi-Fi vulnerabilities, by using the proper tools. First, examine the wide variety of possible modes of attack—from injection, overflow, and cross-site scripting to XML (extensible markup language), DoS, address resolution protocol (ARP) poisoning, and password compromises. Then develop valuable skills in counteracting web browser compromises and agility in the use of Kali Linux Wi-Fi tools. Learn OWASP’s (Open Web Application Security Project) Top 10 vulnerabilities and ESAPI (Enterprise Security application programming interface) tools for each one, such as ZAP (Zed Attack Proxy), to test web application security. While you’re learning, pause to meet the aptly-named John the Ripper, a free tool for cracking passwords on 15 platforms! The course helps to prepare learners for CompTIA+ Cybersecurity Analyst+ (CySA+) CS0-002 certification exam."
   ]
  },
  {
   "cell_type": "markdown",
   "id": "173e78b5",
   "metadata": {},
   "source": [
    "Objectives\n",
    "\n",
    "- discover the key concepts covered in this course <br/><br/>\n",
    "- recognize how information gathering is the first step in hacking <br/><br/>\n",
    "- use the Metasploit Framework to generate e-mail lists <br/><br/>\n",
    "- list common Wi-Fi network vulnerabilities and mitigation strategies <br/><br/>\n",
    "- describe common Wi-Fi attack techniques <br/><br/>\n",
    "- use Kali Linux Wi-Fi tools <br/><br/>\n",
    "- harden a Wi-Fi router <br/><br/>\n",
    "- recognize how injection attacks can lead to sensitive data disclosure <br/><br/>\n",
    "- recall how overflow attacks work <br/><br/>\n",
    "- list different types of cross-site scripting attacks <br/><br/>\n",
    "- use the BeEF tool to hack a web browser <br/><br/>\n",
    "- describe how the use of insecure XML components can lead to web application compromise <br/><br/>\n",
    "- list common web application vulnerabilities <br/><br/>\n",
    "- use the OWASP ZAP tool to test web application security <br/><br/>\n",
    "- use the slowhttptest command to run a DoS attack against an HTTP web site <br/><br/>\n",
    "- describe ARP poisoning attacks <br/><br/>\n",
    "- use Kali Linux to execute an ARP poisoning MiTM attack <br/><br/>\n",
    "- recognize how malicious users use a variety of password attacks to compromise user accounts <br/><br/>\n",
    "- use the hydra tool to brute force a Windows RDP connection <br/><br/>\n",
    "- use John the Ripper to crack user passwords <br/><br/>\n",
    "- summarize the key concepts covered in this course <br/><br/>"
   ]
  },
  {
   "cell_type": "markdown",
   "id": "84b00380",
   "metadata": {},
   "source": [
    "< [Table of Contents](#top) | [References](#references) >\n",
    "<a id=\"Reconnaissance\"></a>\n",
    "***\n",
    "### Reconnaissance\n",
    "***"
   ]
  },
  {
   "cell_type": "markdown",
   "id": "d82d85d7",
   "metadata": {},
   "source": []
  },
  {
   "cell_type": "markdown",
   "id": "b4da2efe",
   "metadata": {},
   "source": [
    "< [Table of Contents](#top) | [References](#references) >\n",
    "<a id=\"EmailHarvesting\"></a>\n",
    "***\n",
    "### Email Harvesting\n",
    "***"
   ]
  },
  {
   "cell_type": "markdown",
   "id": "70f6e846",
   "metadata": {},
   "source": []
  },
  {
   "cell_type": "markdown",
   "id": "7b10c3a2",
   "metadata": {},
   "source": [
    "< [Table of Contents](#top) | [References](#references) >\n",
    "<a id=\"WiFiVulnerabilities\"></a>\n",
    "***\n",
    "### Wi-Fi Vulnerabilities\n",
    "***"
   ]
  },
  {
   "cell_type": "markdown",
   "id": "2cc18496",
   "metadata": {},
   "source": []
  },
  {
   "cell_type": "markdown",
   "id": "1ce9ff85",
   "metadata": {},
   "source": [
    "< [Table of Contents](#top) | [References](#references) >\n",
    "<a id=\"WiFiAttacks\"></a>\n",
    "***\n",
    "### Wi-Fi Attacks\n",
    "***"
   ]
  },
  {
   "cell_type": "markdown",
   "id": "8bb9c616",
   "metadata": {},
   "source": []
  },
  {
   "cell_type": "markdown",
   "id": "d87809fd",
   "metadata": {},
   "source": [
    "< [Table of Contents](#top) | [References](#references) >\n",
    "<a id=\"WiFiTools\"></a>\n",
    "***\n",
    "### Wi-Fi Tools\n",
    "***"
   ]
  },
  {
   "cell_type": "markdown",
   "id": "f0a909b6",
   "metadata": {},
   "source": []
  },
  {
   "cell_type": "markdown",
   "id": "c781a700",
   "metadata": {},
   "source": [
    "< [Table of Contents](#top) | [References](#references) >\n",
    "<a id=\"WiFiHardening\"></a>\n",
    "***\n",
    "### Wi-Fi Hardening\n",
    "***"
   ]
  },
  {
   "cell_type": "markdown",
   "id": "cd41c08d",
   "metadata": {},
   "source": []
  },
  {
   "cell_type": "markdown",
   "id": "1256d7bf",
   "metadata": {},
   "source": [
    "< [Table of Contents](#top) | [References](#references) >\n",
    "<a id=\"InjectionAttacks\"></a>\n",
    "***\n",
    "### Injection Attacks\n",
    "***"
   ]
  },
  {
   "cell_type": "markdown",
   "id": "3ab13be8",
   "metadata": {},
   "source": []
  },
  {
   "cell_type": "markdown",
   "id": "47707114",
   "metadata": {},
   "source": [
    "< [Table of Contents](#top) | [References](#references) >\n",
    "<a id=\"OverflowAttacks\"></a>\n",
    "***\n",
    "### Overflow Attacks\n",
    "***"
   ]
  },
  {
   "cell_type": "markdown",
   "id": "5c5eb4ce",
   "metadata": {},
   "source": []
  },
  {
   "cell_type": "markdown",
   "id": "9adeceaf",
   "metadata": {},
   "source": [
    "< [Table of Contents](#top) | [References](#references) >\n",
    "<a id=\"CrosssiteScriptingAttacks\"></a>\n",
    "***\n",
    "### Cross-site Scripting Attacks\n",
    "***"
   ]
  },
  {
   "cell_type": "markdown",
   "id": "45d2f914",
   "metadata": {},
   "source": []
  },
  {
   "cell_type": "markdown",
   "id": "fd680b58",
   "metadata": {},
   "source": [
    "< [Table of Contents](#top) | [References](#references) >\n",
    "<a id=\"WebBrowserCompromise\"></a>\n",
    "***\n",
    "### Web Browser Compromise\n",
    "***"
   ]
  },
  {
   "cell_type": "markdown",
   "id": "86a67316",
   "metadata": {},
   "source": []
  },
  {
   "cell_type": "markdown",
   "id": "d438e44b",
   "metadata": {},
   "source": [
    "< [Table of Contents](#top) | [References](#references) >\n",
    "<a id=\"XMLAttacks\"></a>\n",
    "***\n",
    "### XML Attacks\n",
    "***"
   ]
  },
  {
   "cell_type": "markdown",
   "id": "6779b825",
   "metadata": {},
   "source": []
  },
  {
   "cell_type": "markdown",
   "id": "bd89bb21",
   "metadata": {},
   "source": [
    "< [Table of Contents](#top) | [References](#references) >\n",
    "<a id=\"OWASPTop10\"></a>\n",
    "***\n",
    "### OWASP Top 10\n",
    "***"
   ]
  },
  {
   "cell_type": "markdown",
   "id": "c9f42d31",
   "metadata": {},
   "source": []
  },
  {
   "cell_type": "markdown",
   "id": "88de3841",
   "metadata": {},
   "source": [
    "< [Table of Contents](#top) | [References](#references) >\n",
    "<a id=\"TestingWebApplicationSecurity\"></a>\n",
    "***\n",
    "### Testing Web Application Security\n",
    "***"
   ]
  },
  {
   "cell_type": "markdown",
   "id": "d78a1e66",
   "metadata": {},
   "source": []
  },
  {
   "cell_type": "markdown",
   "id": "cd59431a",
   "metadata": {},
   "source": [
    "< [Table of Contents](#top) | [References](#references) >\n",
    "<a id=\"DoSAttacks\"></a>\n",
    "***\n",
    "### DoS Attacks\n",
    "***"
   ]
  },
  {
   "cell_type": "markdown",
   "id": "5e3ec43a",
   "metadata": {},
   "source": []
  },
  {
   "cell_type": "markdown",
   "id": "efe79722",
   "metadata": {},
   "source": [
    "< [Table of Contents](#top) | [References](#references) >\n",
    "<a id=\"ARPPoisoning\"></a>\n",
    "***\n",
    "### ARP Poisoning\n",
    "***"
   ]
  },
  {
   "cell_type": "markdown",
   "id": "8bbc0df5",
   "metadata": {},
   "source": []
  },
  {
   "cell_type": "markdown",
   "id": "8fb4c7ed",
   "metadata": {},
   "source": [
    "< [Table of Contents](#top) | [References](#references) >\n",
    "<a id=\"ExecutingARPPoisoning\"></a>\n",
    "***\n",
    "### Executing ARP Poisoning\n",
    "***"
   ]
  },
  {
   "cell_type": "markdown",
   "id": "064391e1",
   "metadata": {},
   "source": []
  },
  {
   "cell_type": "markdown",
   "id": "6c9eed0d",
   "metadata": {},
   "source": [
    "< [Table of Contents](#top) | [References](#references) >\n",
    "<a id=\"PasswordAttacks\"></a>\n",
    "***\n",
    "### Password Attacks\n",
    "***"
   ]
  },
  {
   "cell_type": "markdown",
   "id": "815ec832",
   "metadata": {},
   "source": []
  },
  {
   "cell_type": "markdown",
   "id": "fdc3ddc8",
   "metadata": {},
   "source": [
    "< [Table of Contents](#top) | [References](#references) >\n",
    "<a id=\"HydraPasswordAttack\"></a>\n",
    "***\n",
    "### Hydra Password Attack\n",
    "***"
   ]
  },
  {
   "cell_type": "markdown",
   "id": "3e901e38",
   "metadata": {},
   "source": []
  },
  {
   "cell_type": "markdown",
   "id": "be9c52ce",
   "metadata": {},
   "source": [
    "< [Table of Contents](#top) | [References](#references) >\n",
    "<a id=\"JohntheRipper\"></a>\n",
    "***\n",
    "### John the Ripper\n",
    "***"
   ]
  },
  {
   "cell_type": "markdown",
   "id": "634bb11c",
   "metadata": {},
   "source": []
  },
  {
   "cell_type": "markdown",
   "id": "37790cd3",
   "metadata": {},
   "source": [
    "< [Table of Contents](#top) | [References](#references) >\n",
    "<a id=\"CourseSummary\"></a>\n",
    "***\n",
    "### Course Summary\n",
    "***"
   ]
  },
  {
   "cell_type": "markdown",
   "id": "161e4e5d",
   "metadata": {},
   "source": []
  },
  {
   "cell_type": "markdown",
   "id": "2cc20932",
   "metadata": {},
   "source": [
    "***\n",
    "## END"
   ]
  },
  {
   "cell_type": "markdown",
   "id": "e0e42d51",
   "metadata": {},
   "source": [
    "< [Table of Contents](#top) >\n",
    "<a id=\"references\"></a>\n",
    "***\n",
    "## References\n",
    "***"
   ]
  },
  {
   "cell_type": "markdown",
   "id": "757bf6de",
   "metadata": {},
   "source": [
    "&nbsp;&nbsp;&nbsp;&nbsp;&nbsp;&nbsp;&nbsp;&nbsp;&nbsp;skillsoft, \"Attack Types,\" [skillsoft.com](https://web.archive.org/web/20220403100053/https://www.skillsoft.com/), n.d.."
   ]
  },
  {
   "cell_type": "markdown",
   "id": "b33c372a",
   "metadata": {},
   "source": [
    "***\n",
    "## END"
   ]
  },
  {
   "cell_type": "markdown",
   "id": "e5961b4d",
   "metadata": {},
   "source": [
    "< [Table of Contents](#top) | [References](#references) >\n",
    "<a id=\"appendix\"></a>\n",
    "***\n",
    "## Appendix\n",
    "***"
   ]
  },
  {
   "cell_type": "markdown",
   "id": "00d82a82",
   "metadata": {},
   "source": [
    "***\n",
    "## END"
   ]
  },
  {
   "cell_type": "code",
   "execution_count": 1,
   "id": "706756a2",
   "metadata": {},
   "outputs": [
    {
     "data": {
      "text/html": [
       "<style>.container { width:100% !important; }</style>"
      ],
      "text/plain": [
       "<IPython.core.display.HTML object>"
      ]
     },
     "metadata": {},
     "output_type": "display_data"
    }
   ],
   "source": [
    "from IPython.core.display import display,HTML\n",
    "display(HTML(\"<style>.container { width:100% !important; }</style>\"))"
   ]
  },
  {
   "cell_type": "markdown",
   "id": "899c1783",
   "metadata": {},
   "source": [
    "# END JUPYTER NOTEBOOK"
   ]
  }
 ],
 "metadata": {
  "kernelspec": {
   "display_name": "Python 3",
   "language": "python",
   "name": "python3"
  },
  "language_info": {
   "codemirror_mode": {
    "name": "ipython",
    "version": 3
   },
   "file_extension": ".py",
   "mimetype": "text/x-python",
   "name": "python",
   "nbconvert_exporter": "python",
   "pygments_lexer": "ipython3",
   "version": "3.8.8"
  }
 },
 "nbformat": 4,
 "nbformat_minor": 5
}
